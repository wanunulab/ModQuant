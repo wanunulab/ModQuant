{
 "cells": [
  {
   "cell_type": "markdown",
   "metadata": {},
   "source": [
    "# ML Tutorial"
   ]
  },
  {
   "cell_type": "code",
   "execution_count": 2,
   "metadata": {},
   "outputs": [
    {
     "name": "stdout",
     "output_type": "stream",
     "text": [
      "The numpy version is 1.23.5.\n",
      "The scikit-learn version is 1.1.1.\n",
      "The pandas version is 1.4.2.\n",
      "The scipy version is 1.10.0.\n",
      "######\n",
      "The numpy version is 1.23.5.\n",
      "The scikit-learn version is 1.1.1.\n",
      "The pandas version is 1.4.2.\n",
      "The scipy version is 1.10.0.\n",
      "The python version is 3.8.16 (default, Jan 17 2023, 22:25:28) [MSC v.1916 64 bit (AMD64)].\n",
      "The scikit-learn version is 1.1.1.\n",
      "The numpy version is 1.23.5.\n",
      "The pandas version is 1.4.2.\n"
     ]
    }
   ],
   "source": [
    "from matplotlib import pyplot as plt\n",
    "import numpy as np\n",
    "import seaborn as sns\n",
    "import sys\n",
    "import os\n",
    "import pandas as pd\n",
    "from sklearn import preprocessing\n",
    "import sklearn as sk\n",
    "import scipy\n",
    "print('The numpy version is {}.'.format(np.__version__))\n",
    "print('The scikit-learn version is {}.'.format(sk.__version__))\n",
    "print('The pandas version is {}.'.format(pd.__version__))\n",
    "print('The scipy version is {}.'.format(scipy.__version__))\n",
    "from sklearn.model_selection import train_test_split\n",
    "import seaborn as sns\n",
    "from sklearn.svm import SVC\n",
    "from sklearn.linear_model import LogisticRegression\n",
    "from sklearn.ensemble import RandomForestClassifier,ExtraTreesClassifier,AdaBoostClassifier,GradientBoostingClassifier\n",
    "from sklearn.neighbors import KNeighborsClassifier\n",
    "from sklearn.metrics import accuracy_score, precision_score, recall_score, f1_score, classification_report, confusion_matrix\n",
    "\n",
    "\n",
    "from sklearn.metrics import RocCurveDisplay\n",
    "from matplotlib import gridspec\n",
    "import matplotlib.patches as mpatches\n",
    "import matplotlib.font_manager\n",
    "from matplotlib.ticker import AutoMinorLocator\n",
    "from matplotlib.ticker import MultipleLocator\n",
    "import matplotlib as mpl\n",
    "from matplotlib import colors\n",
    "print(\"######\")\n",
    "#from ModQuant import ML_helpers \n",
    "import ML_helpers "
   ]
  },
  {
   "cell_type": "markdown",
   "metadata": {},
   "source": [
    "#### Let's load a dataframe containing the training set extracted from synthetic standards called with guppy 6.3.2 with a +2/-2 feature extraction window"
   ]
  },
  {
   "cell_type": "code",
   "execution_count": 3,
   "metadata": {},
   "outputs": [
    {
     "name": "stdout",
     "output_type": "stream",
     "text": [
      "                                   read_ID  B.n2  B.n1  B.0  B.p1  B.p2  Q.n2  \\\n",
      "0     183705e9-83d5-4fb3-9932-b4f86b5b9a80     4     3    4     1     2    20   \n",
      "1     5fe0fd5c-a9ec-4e80-a86b-d502ac3bbd33     1     3    4     2     3     3   \n",
      "2     f29c2ad4-fa79-4921-86a1-c7032ee5c9be     0     3    0     0     3    -1   \n",
      "3     cc2e2846-90d0-42d1-acf4-2f28cd1e7fcb     4     3    2     1     3    24   \n",
      "4     fe884245-5ba6-4511-847e-6d0136b7c90b     4     3    4     1     3    26   \n",
      "...                                    ...   ...   ...  ...   ...   ...   ...   \n",
      "9773  46fbf324-07b3-4755-bbd2-862df19f1d91     4     0    0     0     3    30   \n",
      "9774  28463097-5cf9-446c-ba96-4c515a583a79     4     3    4     1     3    35   \n",
      "9775  c4576d62-35f7-4be1-896a-5be458799e80     4     3    4     1     3    20   \n",
      "9776  fe447958-8d4e-41ee-8416-930544117385     4     3    4     1     3    27   \n",
      "9777  fd71a096-7022-404b-a4a5-f92b45fae999     4     3    4     1     3    32   \n",
      "\n",
      "      Q.n1  Q.0  Q.p1  ...  Quartile_3_kmer_n1  Quartile_1_kmer_0  \\\n",
      "0       20   12     3  ...             103.203            107.019   \n",
      "1        4    2     5  ...             107.053            106.008   \n",
      "2        6   -1    -1  ...              99.288             86.248   \n",
      "3       21   25    12  ...              94.553             94.172   \n",
      "4       26   21     5  ...              94.954            107.323   \n",
      "...    ...  ...   ...  ...                 ...                ...   \n",
      "9773    -1   -1    -1  ...             103.297             85.428   \n",
      "9774    29   16    13  ...             103.419             96.664   \n",
      "9775    19   17    16  ...              97.075            113.023   \n",
      "9776    22    8     5  ...             101.128            106.967   \n",
      "9777    30   24    17  ...             100.759            102.221   \n",
      "\n",
      "      Quartile_2_kmer_0  Quartile_3_kmer_0  Quartile_1_kmer_p1  \\\n",
      "0               110.984            112.406              97.517   \n",
      "1               109.364            112.272              99.670   \n",
      "2                96.862            102.169              91.934   \n",
      "3                97.526            102.940              90.970   \n",
      "4               110.987            113.889              93.122   \n",
      "...                 ...                ...                 ...   \n",
      "9773             98.495            106.052              86.766   \n",
      "9774            103.652            113.902             104.739   \n",
      "9775            116.244            117.470             101.982   \n",
      "9776            112.805            117.144             104.126   \n",
      "9777            111.510            116.843              90.093   \n",
      "\n",
      "      Quartile_2_kmer_p1  Quartile_3_kmer_p1  Quartile_1_kmer_p2  \\\n",
      "0                100.809             107.243              80.158   \n",
      "1                101.311             102.206              81.252   \n",
      "2                 98.681             106.339              77.453   \n",
      "3                 99.509             105.151              80.982   \n",
      "4                 95.260              97.703              77.394   \n",
      "...                  ...                 ...                 ...   \n",
      "9773              99.755             104.714              85.428   \n",
      "9774             106.370             108.000              83.308   \n",
      "9775             105.203             106.429              83.121   \n",
      "9776             108.308             110.202              85.743   \n",
      "9777             103.253             110.306              87.082   \n",
      "\n",
      "      Quartile_2_kmer_p2  Quartile_3_kmer_p2  \n",
      "0                 81.206              82.328  \n",
      "1                 82.669              84.458  \n",
      "2                 78.818              84.580  \n",
      "3                 90.360              91.808  \n",
      "4                 78.463              79.837  \n",
      "...                  ...                 ...  \n",
      "9773              86.215              88.734  \n",
      "9774              84.395              85.638  \n",
      "9775              84.501              86.188  \n",
      "9776              87.321              89.530  \n",
      "9777              88.803              90.437  \n",
      "\n",
      "[9778 rows x 52 columns]\n"
     ]
    }
   ],
   "source": [
    "df=pd.read_pickle(\"prepared_training_data/MCM5_training_data_with_insertions_6.3.2_n5_11282022_141230.pkl\")#MCM5\n",
    "#df=pd.read_pickle(\"ModQuant/prepared_training_data/MRPS14_training_data_with_insertions_6.3.2_n5_11282022_14932.pkl\")#MRPS14\n",
    "#df=pd.read_pickle(\"ModQuant/prepared_training_data/PRPSAP1_training_data_with_insertions_6.3.2_n5_11282022_141510.pkl\")#PRPSAP1\n",
    "#df=pd.read_pickle(\"ModQuant/prepared_training_data/PSMB2_training_data_with_insertions_6.3.2_n5_11282022_14178.pkl\")#PSMB2\n",
    "#df=pd.read_pickle(\"ModQuant/prepared_training_data/RNF7_training_data_with_insertions_6.3.2_n5_11282022_142012.pkl\")#RNF7\n",
    "\n",
    "print(df)"
   ]
  }
 ],
 "metadata": {
  "kernelspec": {
   "display_name": "test_rna_mod_env",
   "language": "python",
   "name": "python3"
  },
  "language_info": {
   "codemirror_mode": {
    "name": "ipython",
    "version": 3
   },
   "file_extension": ".py",
   "mimetype": "text/x-python",
   "name": "python",
   "nbconvert_exporter": "python",
   "pygments_lexer": "ipython3",
   "version": "3.8.16"
  },
  "orig_nbformat": 4
 },
 "nbformat": 4,
 "nbformat_minor": 2
}
